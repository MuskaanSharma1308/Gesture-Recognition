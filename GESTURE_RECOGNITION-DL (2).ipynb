{
 "cells": [
  {
   "cell_type": "markdown",
   "id": "75a8d9d3",
   "metadata": {},
   "source": [
    "**Gesture Recognition**\n",
    "\n",
    "In this group project, you are going to build a 3D Conv model that will be able to predict the 5 gestures correctly. Please import the following libraries to get started.\n",
    "\n",
    "\n"
   ]
  },
  {
   "cell_type": "code",
   "execution_count": 3,
   "id": "710345ed",
   "metadata": {},
   "outputs": [],
   "source": [
    "import numpy as np\n",
    "import os\n",
    "\n",
    "from skimage.io import imread\n",
    "\n",
    "from skimage.transform import resize\n",
    "import datetime\n",
    "import os"
   ]
  },
  {
   "cell_type": "markdown",
   "id": "c1ec8cd5",
   "metadata": {},
   "source": [
    "We set the random seed so that the results don't vary drastically."
   ]
  },
  {
   "cell_type": "code",
   "execution_count": 4,
   "id": "41ec4693",
   "metadata": {},
   "outputs": [],
   "source": [
    "np.random.seed(30)\n",
    "import random as rn\n",
    "rn.seed(30)\n",
    "from keras import backend as K\n",
    "import tensorflow as tf\n",
    "#tf.set_random_seed(30)"
   ]
  },
  {
   "cell_type": "markdown",
   "id": "4385ea8a",
   "metadata": {},
   "source": [
    "In this block, you read the folder names for training and validation. You also set the batch_size here. Note that you set the batch size in such a way that you are able to use the GPU in full capacity. You keep increasing the batch size until the machine throws an error."
   ]
  },
  {
   "cell_type": "code",
   "execution_count": 5,
   "id": "9d90e9c8",
   "metadata": {},
   "outputs": [],
   "source": [
    "train_doc = np.random.permutation(open('datasets/Project_data/train.csv').readlines())\n",
    "val_doc = np.random.permutation(open('datasets/Project_data/val.csv').readlines())\n",
    "batch_size = 10"
   ]
  },
  {
   "cell_type": "markdown",
   "id": "da4a72cc",
   "metadata": {},
   "source": [
    "**Generator**\n",
    "\n",
    "This is one of the most important part of the code. The overall structure of the generator has been given. In the generator, you are going to preprocess the images as you have images of 2 different dimensions as well as create a batch of video frames. You have to experiment with img_idx, y,z and normalization such that you get high accuracy."
   ]
  },
  {
   "cell_type": "code",
   "execution_count": 6,
   "id": "88cacbad",
   "metadata": {},
   "outputs": [],
   "source": [
    "x = 30 # number of frames\n",
    "y = 120 # image width\n",
    "z = 120 # image height\n",
    "\n",
    "def generator(source_path, folder_list, batch_size):\n",
    "    print( 'Source path = ', source_path, '; batch size =', batch_size)\n",
    "    img_idx = [x for x in range(0,x)] #create a list of image numbers you want to use for a particular video\n",
    "    while True:\n",
    "        t = np.random.permutation(folder_list)\n",
    "        num_batches = len(folder_list)//batch_size # calculate the number of batches\n",
    "        for batch in range(num_batches): # we iterate over the number of batches\n",
    "            batch_data = np.zeros((batch_size,x,y,z,3)) # x is the number of images you use for each video, (y,z) is the final size of the input images and 3 is the number of channels RGB\n",
    "            batch_labels = np.zeros((batch_size,5)) # batch_labels is the one hot representation of the output\n",
    "            for folder in range(batch_size): # iterate over the batch_size\n",
    "                imgs = os.listdir(source_path+'/'+ t[folder + (batch*batch_size)].split(';')[0]) # read all the images in the folder\n",
    "                for idx,item in enumerate(img_idx):\n",
    "                    #  Iterate iver the frames/images of a folder to read them in\n",
    "                    image = imread(source_path+'/'+ t[folder + (batch*batch_size)].strip().split(';')[0]+'/'+imgs[item]).astype(np.float32)\n",
    "                    \n",
    "                    #crop the images and resize them. Note that the images are of 2 different shape \n",
    "                    #and the conv3D will throw error if the inputs in a batch have different shapes\n",
    "                    \n",
    "                    norm = resize(image,(120,120))\n",
    "                    norm = norm/255 #Normalize data\n",
    "                    \n",
    "                    batch_data[folder,idx,:,:,0] = (norm[:,:,0]) #normalise and feed in the image\n",
    "                    batch_data[folder,idx,:,:,1] = (norm[:,:,1]) #normalise and feed in the image\n",
    "                    batch_data[folder,idx,:,:,2] = (norm[:,:,2]) #normalise and feed in the image\n",
    "                  \n",
    "                batch_labels[folder, int(t[folder + (batch*batch_size)].strip().split(';')[2])] = 1\n",
    "            yield batch_data, batch_labels #you yield the batch_data and the batch_labels, remember what does yield do\n",
    "\n",
    "        \n",
    "        # write the code for the remaining data points which are left after full batches\n",
    "        if (len(folder_list) != batch_size*num_batches):\n",
    "            print(\"Batch: \",num_batches+1,\"Index:\", batch_size)\n",
    "            batch_size = len(folder_list) - (batch_size*num_batches)\n",
    "            batch_data = np.zeros((batch_size,x,y,z,3)) # x is the number of images you use for each video, (y,z) is the final size of the input images and 3 is the number of channels RGB\n",
    "            batch_labels = np.zeros((batch_size,5)) # batch_labels is the one hot representation of the output\n",
    "            for folder in range(batch_size): # iterate over the batch_size\n",
    "                imgs = os.listdir(source_path+'/'+ t[folder + (batch*batch_size)].split(';')[0]) # read all the images in the folder\n",
    "                for idx,item in enumerate(img_idx): #  Iterate iver the frames/images of a folder to read them in\n",
    "                    \n",
    "                        image = imread(source_path+'/'+ t[folder + (batch*batch_size)].strip().split(';')[0]+'/'+imgs[item]).astype(np.float32)\n",
    "                    \n",
    "                    #crop the images and resize them. Note that the images are of 2 different shape \n",
    "                    #and the conv3D will throw error if the inputs in a batch have different shapes\n",
    "                        norm = resize(image,(120,120))\n",
    "                        norm = norm/255 #Normalize data\n",
    "                    \n",
    "                        batch_data[folder,idx,:,:,0] = (norm[:,:,0])\n",
    "                        batch_data[folder,idx,:,:,1] = (norm[:,:,1])\n",
    "                        batch_data[folder,idx,:,:,2] = (norm[:,:,2])\n",
    "                  \n",
    "                batch_labels[folder, int(t[folder + (batch*batch_size)].strip().split(';')[2])] = 1\n",
    "            yield batch_data, batch_labels"
   ]
  },
  {
   "cell_type": "markdown",
   "id": "afd93c43",
   "metadata": {},
   "source": [
    "Note here that a video is represented above in the generator as (number of images, height, width, number of channels). Take this into consideration while creating the model architecture."
   ]
  },
  {
   "cell_type": "code",
   "execution_count": 7,
   "id": "0d2a1e5c",
   "metadata": {},
   "outputs": [
    {
     "name": "stdout",
     "output_type": "stream",
     "text": [
      "# training sequences = 663\n",
      "# validation sequences = 100\n",
      "# epochs = 5\n"
     ]
    }
   ],
   "source": [
    "curr_dt_time = datetime.datetime.now()\n",
    "train_path = 'datasets/Project_data/train'\n",
    "val_path = 'datasets/Project_data/val'\n",
    "num_train_sequences = len(train_doc)\n",
    "print('# training sequences =', num_train_sequences)\n",
    "num_val_sequences = len(val_doc)\n",
    "print('# validation sequences =', num_val_sequences)\n",
    "num_epochs = 5 # choose the number of epochs\n",
    "print ('# epochs =', num_epochs)"
   ]
  },
  {
   "cell_type": "markdown",
   "id": "d86f7f37",
   "metadata": {},
   "source": [
    "**Model**\n",
    "\n",
    "Here you make the model using different functionalities that Keras provides. Remember to use Conv3D and MaxPooling3D and not Conv2D and Maxpooling2D for a 3D convolution model. You would want to use TimeDistributed while building a Conv2D + RNN model. Also remember that the last layer is the softmax. Design the network in such a way that the model is able to give good accuracy on the least number of parameters so that it can fit in the memory of the webcam."
   ]
  },
  {
   "cell_type": "code",
   "execution_count": 8,
   "id": "d826e2e1",
   "metadata": {},
   "outputs": [
    {
     "name": "stderr",
     "output_type": "stream",
     "text": [
      "2023-07-05 11:34:31.238474: W tensorflow/core/common_runtime/gpu/gpu_bfc_allocator.cc:39] Overriding allow_growth setting because the TF_FORCE_GPU_ALLOW_GROWTH environment variable is set. Original config value was 0.\n",
      "2023-07-05 11:34:31.238549: I tensorflow/core/common_runtime/gpu/gpu_device.cc:1525] Created device /job:localhost/replica:0/task:0/device:GPU:0 with 14802 MB memory:  -> device: 0, name: Quadro RTX 5000, pci bus id: 0000:1d:00.0, compute capability: 7.5\n"
     ]
    }
   ],
   "source": [
    "from keras.models import Sequential, Model\n",
    "from keras.layers import Dense, GRU, Flatten, TimeDistributed, Flatten, BatchNormalization, Activation, Dropout\n",
    "from keras.layers.convolutional import Conv3D, MaxPooling3D\n",
    "from keras.callbacks import ModelCheckpoint, ReduceLROnPlateau\n",
    "from keras import optimizers\n",
    "import keras\n",
    "\n",
    "#write your model here\n",
    "#model a\n",
    "model_a = Sequential()\n",
    "\n",
    "model_a.add(Conv3D(8, #number of filters \n",
    "                 kernel_size=(3,3,3), \n",
    "                 input_shape=(30, 120, 120, 3),\n",
    "                 padding='same'))\n",
    "model_a.add(BatchNormalization())\n",
    "model_a.add(Activation('relu'))\n",
    "\n",
    "model_a.add(MaxPooling3D(pool_size=(2,2,2)))\n",
    "\n",
    "model_a.add(Conv3D(16, #Number of filters, \n",
    "                 kernel_size=(3,3,3), \n",
    "                 padding='same'))\n",
    "model_a.add(BatchNormalization())\n",
    "model_a.add(Activation('relu'))\n",
    "\n",
    "model_a.add(MaxPooling3D(pool_size=(2,2,2)))\n",
    "\n",
    "model_a.add(Conv3D(32, #Number of filters \n",
    "                 kernel_size=(1,3,3), \n",
    "                 padding='same'))\n",
    "model_a.add(BatchNormalization())\n",
    "model_a.add(Activation('relu'))\n",
    "\n",
    "model_a.add(MaxPooling3D(pool_size=(2,2,2)))\n",
    "\n",
    "model_a.add(Conv3D(64, #Number pf filters \n",
    "                 kernel_size=(1,3,3), \n",
    "                 padding='same'))\n",
    "model_a.add(BatchNormalization())\n",
    "model_a.add(Activation('relu'))\n",
    "\n",
    "model_a.add(MaxPooling3D(pool_size=(2,2,2)))\n",
    "\n",
    "#Flatten Layers\n",
    "model_a.add(Flatten())\n",
    "\n",
    "model_a.add(Dense(1000, activation='relu'))\n",
    "model_a.add(Dropout(0.5))\n",
    "\n",
    "model_a.add(Dense(500, activation='relu'))\n",
    "model_a.add(Dropout(0.5))\n",
    "\n",
    "#softmax layer\n",
    "model_a.add(Dense(5, activation='softmax'))"
   ]
  },
  {
   "cell_type": "markdown",
   "id": "58c624b9",
   "metadata": {},
   "source": [
    "Now that you have written the model, the next step is to compile the model. When you print the summary of the model, you'll see the total number of parameters you have to train."
   ]
  },
  {
   "cell_type": "code",
   "execution_count": 9,
   "id": "3fcace07",
   "metadata": {},
   "outputs": [
    {
     "name": "stdout",
     "output_type": "stream",
     "text": [
      "Model: \"sequential\"\n",
      "_________________________________________________________________\n",
      " Layer (type)                Output Shape              Param #   \n",
      "=================================================================\n",
      " conv3d (Conv3D)             (None, 30, 120, 120, 8)   656       \n",
      "                                                                 \n",
      " batch_normalization (BatchN  (None, 30, 120, 120, 8)  32        \n",
      " ormalization)                                                   \n",
      "                                                                 \n",
      " activation (Activation)     (None, 30, 120, 120, 8)   0         \n",
      "                                                                 \n",
      " max_pooling3d (MaxPooling3D  (None, 15, 60, 60, 8)    0         \n",
      " )                                                               \n",
      "                                                                 \n",
      " conv3d_1 (Conv3D)           (None, 15, 60, 60, 16)    3472      \n",
      "                                                                 \n",
      " batch_normalization_1 (Batc  (None, 15, 60, 60, 16)   64        \n",
      " hNormalization)                                                 \n",
      "                                                                 \n",
      " activation_1 (Activation)   (None, 15, 60, 60, 16)    0         \n",
      "                                                                 \n",
      " max_pooling3d_1 (MaxPooling  (None, 7, 30, 30, 16)    0         \n",
      " 3D)                                                             \n",
      "                                                                 \n",
      " conv3d_2 (Conv3D)           (None, 7, 30, 30, 32)     4640      \n",
      "                                                                 \n",
      " batch_normalization_2 (Batc  (None, 7, 30, 30, 32)    128       \n",
      " hNormalization)                                                 \n",
      "                                                                 \n",
      " activation_2 (Activation)   (None, 7, 30, 30, 32)     0         \n",
      "                                                                 \n",
      " max_pooling3d_2 (MaxPooling  (None, 3, 15, 15, 32)    0         \n",
      " 3D)                                                             \n",
      "                                                                 \n",
      " conv3d_3 (Conv3D)           (None, 3, 15, 15, 64)     18496     \n",
      "                                                                 \n",
      " batch_normalization_3 (Batc  (None, 3, 15, 15, 64)    256       \n",
      " hNormalization)                                                 \n",
      "                                                                 \n",
      " activation_3 (Activation)   (None, 3, 15, 15, 64)     0         \n",
      "                                                                 \n",
      " max_pooling3d_3 (MaxPooling  (None, 1, 7, 7, 64)      0         \n",
      " 3D)                                                             \n",
      "                                                                 \n",
      " flatten (Flatten)           (None, 3136)              0         \n",
      "                                                                 \n",
      " dense (Dense)               (None, 1000)              3137000   \n",
      "                                                                 \n",
      " dropout (Dropout)           (None, 1000)              0         \n",
      "                                                                 \n",
      " dense_1 (Dense)             (None, 500)               500500    \n",
      "                                                                 \n",
      " dropout_1 (Dropout)         (None, 500)               0         \n",
      "                                                                 \n",
      " dense_2 (Dense)             (None, 5)                 2505      \n",
      "                                                                 \n",
      "=================================================================\n",
      "Total params: 3,667,749\n",
      "Trainable params: 3,667,509\n",
      "Non-trainable params: 240\n",
      "_________________________________________________________________\n",
      "None\n"
     ]
    },
    {
     "name": "stderr",
     "output_type": "stream",
     "text": [
      "/usr/local/lib/python3.8/dist-packages/keras/optimizer_v2/adam.py:105: UserWarning: The `lr` argument is deprecated, use `learning_rate` instead.\n",
      "  super(Adam, self).__init__(name, **kwargs)\n"
     ]
    }
   ],
   "source": [
    "from tensorflow.keras import optimizers\n",
    "\n",
    "optimiser = optimizers.Adam(lr=0.001) #write your optimizer\n",
    "model_a.compile(optimizer=optimiser, loss='categorical_crossentropy', metrics=['categorical_accuracy'])\n",
    "print (model_a.summary())"
   ]
  },
  {
   "cell_type": "markdown",
   "id": "403c71fa",
   "metadata": {},
   "source": [
    "Let us create the train_generator and the val_generator which will be used in .fit_generator."
   ]
  },
  {
   "cell_type": "code",
   "execution_count": 10,
   "id": "d2fb5d57",
   "metadata": {},
   "outputs": [],
   "source": [
    "train_generator = generator(train_path, train_doc, batch_size)\n",
    "val_generator = generator(val_path, val_doc, batch_size)"
   ]
  },
  {
   "cell_type": "code",
   "execution_count": 11,
   "id": "174d5d1a",
   "metadata": {},
   "outputs": [
    {
     "name": "stdout",
     "output_type": "stream",
     "text": [
      "WARNING:tensorflow:`period` argument is deprecated. Please use `save_freq` to specify the frequency in number of batches seen.\n"
     ]
    }
   ],
   "source": [
    "model_name = 'model_init' + '_' + str(curr_dt_time).replace(' ','').replace(':','_') + '/'\n",
    "    \n",
    "if not os.path.exists(model_name):\n",
    "    os.mkdir(model_name)\n",
    "        \n",
    "filepath = model_name + 'model-{epoch:05d}-{loss:.5f}-{categorical_accuracy:.5f}-{val_loss:.5f}-{val_categorical_accuracy:.5f}.h5'\n",
    "\n",
    "checkpoint = ModelCheckpoint(filepath, monitor='val_loss', verbose=1, save_best_only=False, save_weights_only=False, mode='auto', period=1)\n",
    "\n",
    "LR = ReduceLROnPlateau(monitor='val_loss', factor=0.5, patience=2, cooldown=1, verbose=1) # write the REducelronplateau code here\n",
    "callbacks_list = [checkpoint, LR]"
   ]
  },
  {
   "cell_type": "markdown",
   "id": "e07c0bbe",
   "metadata": {},
   "source": [
    "The steps_per_epoch and validation_steps are used by fit_generator to decide the number of next() calls it need to make."
   ]
  },
  {
   "cell_type": "code",
   "execution_count": 12,
   "id": "77d27add",
   "metadata": {},
   "outputs": [],
   "source": [
    "if (num_train_sequences%batch_size) == 0:\n",
    "    steps_per_epoch = int(num_train_sequences/batch_size)\n",
    "else:\n",
    "    steps_per_epoch = (num_train_sequences//batch_size) + 1\n",
    "\n",
    "if (num_val_sequences%batch_size) == 0:\n",
    "    validation_steps = int(num_val_sequences/batch_size)\n",
    "else:\n",
    "    validation_steps = (num_val_sequences//batch_size) + 1"
   ]
  },
  {
   "cell_type": "markdown",
   "id": "85520998",
   "metadata": {},
   "source": [
    "Let us now fit the model. This will start training the model and with the help of the checkpoints, you'll be able to save the model at the end of each epoch."
   ]
  },
  {
   "cell_type": "code",
   "execution_count": 13,
   "id": "d08a6fb1",
   "metadata": {},
   "outputs": [
    {
     "name": "stderr",
     "output_type": "stream",
     "text": [
      "/tmp/ipykernel_303/1387693686.py:1: UserWarning: `Model.fit_generator` is deprecated and will be removed in a future version. Please use `Model.fit`, which supports generators.\n",
      "  model_a.fit_generator(train_generator, steps_per_epoch=steps_per_epoch, epochs=num_epochs, verbose=1,\n"
     ]
    },
    {
     "name": "stdout",
     "output_type": "stream",
     "text": [
      "Source path =  datasets/Project_data/train ; batch size = 10\n",
      "Epoch 1/5\n"
     ]
    },
    {
     "name": "stderr",
     "output_type": "stream",
     "text": [
      "2023-07-05 11:34:41.454592: I tensorflow/stream_executor/cuda/cuda_dnn.cc:377] Loaded cuDNN version 8302\n"
     ]
    },
    {
     "name": "stdout",
     "output_type": "stream",
     "text": [
      "65/67 [============================>.] - ETA: 3s - loss: 4.9598 - categorical_accuracy: 0.3123Batch:  67 Index: 10\n",
      "67/67 [==============================] - ETA: 0s - loss: 4.8909 - categorical_accuracy: 0.3152Source path =  datasets/Project_data/val ; batch size = 10\n",
      "\n",
      "Epoch 00001: saving model to model_init_2023-07-0511_34_28.869952/model-00001-4.89088-0.31523-1.65593-0.27000.h5\n",
      "67/67 [==============================] - 154s 2s/step - loss: 4.8909 - categorical_accuracy: 0.3152 - val_loss: 1.6559 - val_categorical_accuracy: 0.2700 - lr: 0.0010\n",
      "Epoch 2/5\n",
      "67/67 [==============================] - ETA: 0s - loss: 2.5848 - categorical_accuracy: 0.2637\n",
      "Epoch 00002: saving model to model_init_2023-07-0511_34_28.869952/model-00002-2.58483-0.26368-1.58375-0.24000.h5\n",
      "67/67 [==============================] - 62s 938ms/step - loss: 2.5848 - categorical_accuracy: 0.2637 - val_loss: 1.5838 - val_categorical_accuracy: 0.2400 - lr: 0.0010\n",
      "Epoch 3/5\n",
      "67/67 [==============================] - ETA: 0s - loss: 1.8993 - categorical_accuracy: 0.2935\n",
      "Epoch 00003: saving model to model_init_2023-07-0511_34_28.869952/model-00003-1.89932-0.29353-1.64176-0.20000.h5\n",
      "67/67 [==============================] - 65s 989ms/step - loss: 1.8993 - categorical_accuracy: 0.2935 - val_loss: 1.6418 - val_categorical_accuracy: 0.2000 - lr: 0.0010\n",
      "Epoch 4/5\n",
      "67/67 [==============================] - ETA: 0s - loss: 1.6897 - categorical_accuracy: 0.3085\n",
      "Epoch 00004: saving model to model_init_2023-07-0511_34_28.869952/model-00004-1.68973-0.30846-1.80173-0.24000.h5\n",
      "\n",
      "Epoch 00004: ReduceLROnPlateau reducing learning rate to 0.0005000000237487257.\n",
      "67/67 [==============================] - 63s 957ms/step - loss: 1.6897 - categorical_accuracy: 0.3085 - val_loss: 1.8017 - val_categorical_accuracy: 0.2400 - lr: 0.0010\n",
      "Epoch 5/5\n",
      "67/67 [==============================] - ETA: 0s - loss: 1.3292 - categorical_accuracy: 0.4378\n",
      "Epoch 00005: saving model to model_init_2023-07-0511_34_28.869952/model-00005-1.32918-0.43781-1.40378-0.40000.h5\n",
      "67/67 [==============================] - 65s 983ms/step - loss: 1.3292 - categorical_accuracy: 0.4378 - val_loss: 1.4038 - val_categorical_accuracy: 0.4000 - lr: 5.0000e-04\n"
     ]
    },
    {
     "data": {
      "text/plain": [
       "<keras.callbacks.History at 0x7f3a721016a0>"
      ]
     },
     "execution_count": 13,
     "metadata": {},
     "output_type": "execute_result"
    }
   ],
   "source": [
    "model_a.fit_generator(train_generator, steps_per_epoch=steps_per_epoch, epochs=num_epochs, verbose=1, \n",
    "                    callbacks=callbacks_list, validation_data=val_generator, \n",
    "                    validation_steps=validation_steps, class_weight=None, workers=1, initial_epoch=0)"
   ]
  },
  {
   "cell_type": "markdown",
   "id": "bd4f3a56",
   "metadata": {},
   "source": [
    "Since the above model is underfitting, we have to create more models to get the best accuracy. \n",
    "\n",
    "**Model 2**\n",
    "\n",
    "For this model we have changed the number of epochs to 10 and we have added few dropout layers to make the model fit."
   ]
  },
  {
   "cell_type": "code",
   "execution_count": 14,
   "id": "0bfe1f25",
   "metadata": {},
   "outputs": [],
   "source": [
    "num_epochs = 10"
   ]
  },
  {
   "cell_type": "code",
   "execution_count": 15,
   "id": "f8127012",
   "metadata": {},
   "outputs": [],
   "source": [
    "\n",
    "from keras.losses import categorical_crossentropy\n",
    "\n",
    "\n",
    "# Define model b\n",
    "model_b = Sequential()\n",
    "model_b.add(Conv3D(32, kernel_size=(3, 3, 3), input_shape=(x,y,z,3), padding='same'))\n",
    "model_b.add(Activation('relu'))\n",
    "model_b.add(Conv3D(32, kernel_size=(3, 3, 3), padding='same'))\n",
    "model_b.add(Activation('relu'))\n",
    "model_b.add(MaxPooling3D(pool_size=(3, 3, 3), padding='same'))\n",
    "model_b.add(Dropout(0.25))\n",
    "\n",
    "model_b.add(Conv3D(64, kernel_size=(3, 3, 3), padding='same'))\n",
    "model_b.add(Activation('relu'))\n",
    "model_b.add(Conv3D(64, kernel_size=(3, 3, 3), padding='same'))\n",
    "model_b.add(Activation('relu'))\n",
    "model_b.add(MaxPooling3D(pool_size=(3, 3, 3), padding='same'))\n",
    "model_b.add(Dropout(0.25))\n",
    "\n",
    "model_b.add(Flatten())\n",
    "model_b.add(Dense(512, activation='relu'))\n",
    "model_b.add(Dropout(0.5))\n",
    "model_b.add(Dense(5, activation='softmax'))\n",
    "\n",
    "\n",
    "\n"
   ]
  },
  {
   "cell_type": "code",
   "execution_count": 16,
   "id": "29da868c",
   "metadata": {},
   "outputs": [
    {
     "name": "stdout",
     "output_type": "stream",
     "text": [
      "Model: \"sequential_1\"\n",
      "_________________________________________________________________\n",
      " Layer (type)                Output Shape              Param #   \n",
      "=================================================================\n",
      " conv3d_4 (Conv3D)           (None, 30, 120, 120, 32)  2624      \n",
      "                                                                 \n",
      " activation_4 (Activation)   (None, 30, 120, 120, 32)  0         \n",
      "                                                                 \n",
      " conv3d_5 (Conv3D)           (None, 30, 120, 120, 32)  27680     \n",
      "                                                                 \n",
      " activation_5 (Activation)   (None, 30, 120, 120, 32)  0         \n",
      "                                                                 \n",
      " max_pooling3d_4 (MaxPooling  (None, 10, 40, 40, 32)   0         \n",
      " 3D)                                                             \n",
      "                                                                 \n",
      " dropout_2 (Dropout)         (None, 10, 40, 40, 32)    0         \n",
      "                                                                 \n",
      " conv3d_6 (Conv3D)           (None, 10, 40, 40, 64)    55360     \n",
      "                                                                 \n",
      " activation_6 (Activation)   (None, 10, 40, 40, 64)    0         \n",
      "                                                                 \n",
      " conv3d_7 (Conv3D)           (None, 10, 40, 40, 64)    110656    \n",
      "                                                                 \n",
      " activation_7 (Activation)   (None, 10, 40, 40, 64)    0         \n",
      "                                                                 \n",
      " max_pooling3d_5 (MaxPooling  (None, 4, 14, 14, 64)    0         \n",
      " 3D)                                                             \n",
      "                                                                 \n",
      " dropout_3 (Dropout)         (None, 4, 14, 14, 64)     0         \n",
      "                                                                 \n",
      " flatten_1 (Flatten)         (None, 50176)             0         \n",
      "                                                                 \n",
      " dense_3 (Dense)             (None, 512)               25690624  \n",
      "                                                                 \n",
      " dropout_4 (Dropout)         (None, 512)               0         \n",
      "                                                                 \n",
      " dense_4 (Dense)             (None, 5)                 2565      \n",
      "                                                                 \n",
      "=================================================================\n",
      "Total params: 25,889,509\n",
      "Trainable params: 25,889,509\n",
      "Non-trainable params: 0\n",
      "_________________________________________________________________\n",
      "None\n"
     ]
    }
   ],
   "source": [
    "from tensorflow.keras import optimizers\n",
    "\n",
    "optimiser = optimizers.Adam(lr=0.001) #write your optimizer\n",
    "model_b.compile(optimizer=optimiser, loss='categorical_crossentropy', metrics=['categorical_accuracy'])\n",
    "print (model_b.summary())"
   ]
  },
  {
   "cell_type": "code",
   "execution_count": 17,
   "id": "3ec85502",
   "metadata": {},
   "outputs": [],
   "source": [
    "train_generator = generator(train_path, train_doc, batch_size)\n",
    "val_generator = generator(val_path, val_doc, batch_size)"
   ]
  },
  {
   "cell_type": "code",
   "execution_count": 18,
   "id": "e33ba3dd",
   "metadata": {},
   "outputs": [
    {
     "name": "stderr",
     "output_type": "stream",
     "text": [
      "/tmp/ipykernel_303/3161962229.py:1: UserWarning: `Model.fit_generator` is deprecated and will be removed in a future version. Please use `Model.fit`, which supports generators.\n",
      "  model_b.fit_generator(train_generator, steps_per_epoch=steps_per_epoch, epochs=num_epochs, verbose=1,\n"
     ]
    },
    {
     "name": "stdout",
     "output_type": "stream",
     "text": [
      "Source path =  datasets/Project_data/train ; batch size = 10\n",
      "Epoch 1/10\n",
      "65/67 [============================>.] - ETA: 3s - loss: 1.7646 - categorical_accuracy: 0.1969Batch:  67 Index: 10\n",
      "67/67 [==============================] - ETA: 0s - loss: 1.7616 - categorical_accuracy: 0.1991Source path =  datasets/Project_data/val ; batch size = 10\n",
      "\n",
      "Epoch 00001: saving model to model_init_2023-07-0511_34_28.869952/model-00001-1.76156-0.19910-1.60857-0.23000.h5\n",
      "67/67 [==============================] - 160s 2s/step - loss: 1.7616 - categorical_accuracy: 0.1991 - val_loss: 1.6086 - val_categorical_accuracy: 0.2300 - lr: 0.0010\n",
      "Epoch 2/10\n",
      "67/67 [==============================] - ETA: 0s - loss: 1.6088 - categorical_accuracy: 0.1990\n",
      "Epoch 00002: saving model to model_init_2023-07-0511_34_28.869952/model-00002-1.60876-0.19900-1.60874-0.26000.h5\n",
      "67/67 [==============================] - 68s 1s/step - loss: 1.6088 - categorical_accuracy: 0.1990 - val_loss: 1.6087 - val_categorical_accuracy: 0.2600 - lr: 0.0010\n",
      "Epoch 3/10\n",
      "67/67 [==============================] - ETA: 0s - loss: 1.6114 - categorical_accuracy: 0.1791\n",
      "Epoch 00003: saving model to model_init_2023-07-0511_34_28.869952/model-00003-1.61141-0.17910-1.60715-0.19000.h5\n",
      "67/67 [==============================] - 64s 961ms/step - loss: 1.6114 - categorical_accuracy: 0.1791 - val_loss: 1.6072 - val_categorical_accuracy: 0.1900 - lr: 0.0010\n",
      "Epoch 4/10\n",
      "67/67 [==============================] - ETA: 0s - loss: 1.6107 - categorical_accuracy: 0.1841\n",
      "Epoch 00004: saving model to model_init_2023-07-0511_34_28.869952/model-00004-1.61070-0.18408-1.60984-0.18000.h5\n",
      "67/67 [==============================] - 66s 996ms/step - loss: 1.6107 - categorical_accuracy: 0.1841 - val_loss: 1.6098 - val_categorical_accuracy: 0.1800 - lr: 0.0010\n",
      "Epoch 5/10\n",
      "67/67 [==============================] - ETA: 0s - loss: 1.6084 - categorical_accuracy: 0.2090\n",
      "Epoch 00005: saving model to model_init_2023-07-0511_34_28.869952/model-00005-1.60837-0.20896-1.60785-0.18000.h5\n",
      "\n",
      "Epoch 00005: ReduceLROnPlateau reducing learning rate to 0.0005000000237487257.\n",
      "67/67 [==============================] - 63s 957ms/step - loss: 1.6084 - categorical_accuracy: 0.2090 - val_loss: 1.6078 - val_categorical_accuracy: 0.1800 - lr: 0.0010\n",
      "Epoch 6/10\n",
      "67/67 [==============================] - ETA: 0s - loss: 1.6112 - categorical_accuracy: 0.1542\n",
      "Epoch 00006: saving model to model_init_2023-07-0511_34_28.869952/model-00006-1.61121-0.15423-1.61051-0.15000.h5\n",
      "67/67 [==============================] - 66s 1s/step - loss: 1.6112 - categorical_accuracy: 0.1542 - val_loss: 1.6105 - val_categorical_accuracy: 0.1500 - lr: 5.0000e-04\n",
      "Epoch 7/10\n",
      "67/67 [==============================] - ETA: 0s - loss: 1.6099 - categorical_accuracy: 0.1990\n",
      "Epoch 00007: saving model to model_init_2023-07-0511_34_28.869952/model-00007-1.60991-0.19900-1.60906-0.23000.h5\n",
      "\n",
      "Epoch 00007: ReduceLROnPlateau reducing learning rate to 0.0002500000118743628.\n",
      "67/67 [==============================] - 65s 980ms/step - loss: 1.6099 - categorical_accuracy: 0.1990 - val_loss: 1.6091 - val_categorical_accuracy: 0.2300 - lr: 5.0000e-04\n",
      "Epoch 8/10\n",
      "67/67 [==============================] - ETA: 0s - loss: 1.6087 - categorical_accuracy: 0.2090\n",
      "Epoch 00008: saving model to model_init_2023-07-0511_34_28.869952/model-00008-1.60866-0.20896-1.60835-0.23000.h5\n",
      "67/67 [==============================] - 64s 975ms/step - loss: 1.6087 - categorical_accuracy: 0.2090 - val_loss: 1.6083 - val_categorical_accuracy: 0.2300 - lr: 2.5000e-04\n",
      "Epoch 9/10\n",
      "67/67 [==============================] - ETA: 0s - loss: 1.6089 - categorical_accuracy: 0.1891\n",
      "Epoch 00009: saving model to model_init_2023-07-0511_34_28.869952/model-00009-1.60887-0.18905-1.60643-0.21000.h5\n",
      "67/67 [==============================] - 64s 974ms/step - loss: 1.6089 - categorical_accuracy: 0.1891 - val_loss: 1.6064 - val_categorical_accuracy: 0.2100 - lr: 2.5000e-04\n",
      "Epoch 10/10\n",
      "67/67 [==============================] - ETA: 0s - loss: 1.6088 - categorical_accuracy: 0.1940\n",
      "Epoch 00010: saving model to model_init_2023-07-0511_34_28.869952/model-00010-1.60878-0.19403-1.60808-0.23000.h5\n",
      "67/67 [==============================] - 64s 972ms/step - loss: 1.6088 - categorical_accuracy: 0.1940 - val_loss: 1.6081 - val_categorical_accuracy: 0.2300 - lr: 2.5000e-04\n"
     ]
    },
    {
     "data": {
      "text/plain": [
       "<keras.callbacks.History at 0x7f3a94695610>"
      ]
     },
     "execution_count": 18,
     "metadata": {},
     "output_type": "execute_result"
    }
   ],
   "source": [
    "model_b.fit_generator(train_generator, steps_per_epoch=steps_per_epoch, epochs=num_epochs, verbose=1, \n",
    "                    callbacks=callbacks_list, validation_data=val_generator, \n",
    "                    validation_steps=validation_steps, class_weight=None, workers=1, initial_epoch=0)"
   ]
  },
  {
   "cell_type": "markdown",
   "id": "30ca5717",
   "metadata": {},
   "source": [
    "**Model 3**\n",
    "\n",
    "In this model we are taking the number of epochs as 20 and batch."
   ]
  },
  {
   "cell_type": "code",
   "execution_count": 19,
   "id": "ef43b3de",
   "metadata": {},
   "outputs": [],
   "source": [
    "model_c = Sequential()\n",
    "model_c.add(Conv3D(32, kernel_size=(3, 3, 3), input_shape=(x,y,z,3), padding=\"same\"))\n",
    "model_c.add(Activation('relu'))\n",
    "model_c.add(Conv3D(32, padding=\"same\", kernel_size=(3, 3, 3)))\n",
    "model_c.add(Activation('relu'))\n",
    "model_c.add(MaxPooling3D(pool_size=(3, 3, 3), padding=\"same\"))\n",
    "model_c.add(Dropout(0.25))\n",
    "\n",
    "model_c.add(Conv3D(64, padding=\"same\", kernel_size=(3, 3, 3)))\n",
    "model_c.add(Activation('relu'))\n",
    "model_c.add(Conv3D(64, padding=\"same\", kernel_size=(3, 3, 3)))\n",
    "model_c.add(Activation('relu'))\n",
    "model_c.add(MaxPooling3D(pool_size=(3, 3, 3), padding=\"same\"))\n",
    "model_c.add(Dropout(0.25))\n",
    "\n",
    "model_c.add(Conv3D(64, padding=\"same\", kernel_size=(3, 3, 3)))\n",
    "model_c.add(Activation('relu'))\n",
    "model_c.add(Conv3D(64, padding=\"same\", kernel_size=(3, 3, 3)))\n",
    "model_c.add(Activation('relu'))\n",
    "model_c.add(MaxPooling3D(pool_size=(3, 3, 3), padding=\"same\"))\n",
    "model_c.add(Dropout(0.25))\n",
    "\n",
    "model_c.add(Flatten())\n",
    "model_c.add(Dense(512, activation='relu'))\n",
    "model_c.add(BatchNormalization())\n",
    "model_c.add(Dropout(0.5))\n",
    "model_c.add(Dense(5, activation='softmax'))"
   ]
  },
  {
   "cell_type": "code",
   "execution_count": 20,
   "id": "d1af4adb",
   "metadata": {},
   "outputs": [
    {
     "name": "stdout",
     "output_type": "stream",
     "text": [
      "Model: \"sequential_2\"\n",
      "_________________________________________________________________\n",
      " Layer (type)                Output Shape              Param #   \n",
      "=================================================================\n",
      " conv3d_8 (Conv3D)           (None, 30, 120, 120, 32)  2624      \n",
      "                                                                 \n",
      " activation_8 (Activation)   (None, 30, 120, 120, 32)  0         \n",
      "                                                                 \n",
      " conv3d_9 (Conv3D)           (None, 30, 120, 120, 32)  27680     \n",
      "                                                                 \n",
      " activation_9 (Activation)   (None, 30, 120, 120, 32)  0         \n",
      "                                                                 \n",
      " max_pooling3d_6 (MaxPooling  (None, 10, 40, 40, 32)   0         \n",
      " 3D)                                                             \n",
      "                                                                 \n",
      " dropout_5 (Dropout)         (None, 10, 40, 40, 32)    0         \n",
      "                                                                 \n",
      " conv3d_10 (Conv3D)          (None, 10, 40, 40, 64)    55360     \n",
      "                                                                 \n",
      " activation_10 (Activation)  (None, 10, 40, 40, 64)    0         \n",
      "                                                                 \n",
      " conv3d_11 (Conv3D)          (None, 10, 40, 40, 64)    110656    \n",
      "                                                                 \n",
      " activation_11 (Activation)  (None, 10, 40, 40, 64)    0         \n",
      "                                                                 \n",
      " max_pooling3d_7 (MaxPooling  (None, 4, 14, 14, 64)    0         \n",
      " 3D)                                                             \n",
      "                                                                 \n",
      " dropout_6 (Dropout)         (None, 4, 14, 14, 64)     0         \n",
      "                                                                 \n",
      " conv3d_12 (Conv3D)          (None, 4, 14, 14, 64)     110656    \n",
      "                                                                 \n",
      " activation_12 (Activation)  (None, 4, 14, 14, 64)     0         \n",
      "                                                                 \n",
      " conv3d_13 (Conv3D)          (None, 4, 14, 14, 64)     110656    \n",
      "                                                                 \n",
      " activation_13 (Activation)  (None, 4, 14, 14, 64)     0         \n",
      "                                                                 \n",
      " max_pooling3d_8 (MaxPooling  (None, 2, 5, 5, 64)      0         \n",
      " 3D)                                                             \n",
      "                                                                 \n",
      " dropout_7 (Dropout)         (None, 2, 5, 5, 64)       0         \n",
      "                                                                 \n",
      " flatten_2 (Flatten)         (None, 3200)              0         \n",
      "                                                                 \n",
      " dense_5 (Dense)             (None, 512)               1638912   \n",
      "                                                                 \n",
      " batch_normalization_4 (Batc  (None, 512)              2048      \n",
      " hNormalization)                                                 \n",
      "                                                                 \n",
      " dropout_8 (Dropout)         (None, 512)               0         \n",
      "                                                                 \n",
      " dense_6 (Dense)             (None, 5)                 2565      \n",
      "                                                                 \n",
      "=================================================================\n",
      "Total params: 2,061,157\n",
      "Trainable params: 2,060,133\n",
      "Non-trainable params: 1,024\n",
      "_________________________________________________________________\n",
      "None\n"
     ]
    }
   ],
   "source": [
    "from tensorflow.keras import optimizers\n",
    "\n",
    "optimiser = optimizers.Adam(lr=0.001) #write your optimizer\n",
    "model_c.compile(optimizer=optimiser, loss='categorical_crossentropy', metrics=['categorical_accuracy'])\n",
    "print (model_c.summary())"
   ]
  },
  {
   "cell_type": "code",
   "execution_count": 21,
   "id": "4fa545e8",
   "metadata": {},
   "outputs": [],
   "source": [
    "# Changing back batch size, images per frame, height and width of image\n",
    "batch_size = 10\n",
    "x = 30 # number of frames\n",
    "y = 120 # image width\n",
    "z = 120# image height\n",
    "num_epochs = 20"
   ]
  },
  {
   "cell_type": "code",
   "execution_count": 22,
   "id": "ffbe8663",
   "metadata": {},
   "outputs": [],
   "source": [
    "train_generator = generator(train_path, train_doc, batch_size)\n",
    "val_generator = generator(val_path, val_doc, batch_size)"
   ]
  },
  {
   "cell_type": "code",
   "execution_count": 23,
   "id": "02d9d346",
   "metadata": {},
   "outputs": [
    {
     "name": "stderr",
     "output_type": "stream",
     "text": [
      "/tmp/ipykernel_303/1535847109.py:1: UserWarning: `Model.fit_generator` is deprecated and will be removed in a future version. Please use `Model.fit`, which supports generators.\n",
      "  model_a.fit_generator(train_generator, steps_per_epoch=steps_per_epoch, epochs=num_epochs, verbose=1,\n"
     ]
    },
    {
     "name": "stdout",
     "output_type": "stream",
     "text": [
      "Source path =  datasets/Project_data/train ; batch size = 10\n",
      "Epoch 1/20\n",
      "65/67 [============================>.] - ETA: 3s - loss: 1.1623 - categorical_accuracy: 0.5000Batch:  67 Index: 10\n",
      "67/67 [==============================] - ETA: 0s - loss: 1.1596 - categorical_accuracy: 0.5008Source path =  datasets/Project_data/val ; batch size = 10\n",
      "\n",
      "Epoch 00001: saving model to model_init_2023-07-0511_34_28.869952/model-00001-1.15957-0.50075-1.65785-0.29000.h5\n",
      "67/67 [==============================] - 155s 2s/step - loss: 1.1596 - categorical_accuracy: 0.5008 - val_loss: 1.6579 - val_categorical_accuracy: 0.2900 - lr: 5.0000e-04\n",
      "Epoch 2/20\n",
      "67/67 [==============================] - ETA: 0s - loss: 1.1903 - categorical_accuracy: 0.4776\n",
      "Epoch 00002: saving model to model_init_2023-07-0511_34_28.869952/model-00002-1.19027-0.47761-1.35372-0.38000.h5\n",
      "67/67 [==============================] - 64s 973ms/step - loss: 1.1903 - categorical_accuracy: 0.4776 - val_loss: 1.3537 - val_categorical_accuracy: 0.3800 - lr: 5.0000e-04\n",
      "Epoch 3/20\n",
      "67/67 [==============================] - ETA: 0s - loss: 1.1331 - categorical_accuracy: 0.5224\n",
      "Epoch 00003: saving model to model_init_2023-07-0511_34_28.869952/model-00003-1.13311-0.52239-1.90980-0.24000.h5\n",
      "67/67 [==============================] - 64s 968ms/step - loss: 1.1331 - categorical_accuracy: 0.5224 - val_loss: 1.9098 - val_categorical_accuracy: 0.2400 - lr: 5.0000e-04\n",
      "Epoch 4/20\n",
      "67/67 [==============================] - ETA: 0s - loss: 1.2906 - categorical_accuracy: 0.4876\n",
      "Epoch 00004: saving model to model_init_2023-07-0511_34_28.869952/model-00004-1.29057-0.48756-1.10797-0.57000.h5\n",
      "67/67 [==============================] - 64s 962ms/step - loss: 1.2906 - categorical_accuracy: 0.4876 - val_loss: 1.1080 - val_categorical_accuracy: 0.5700 - lr: 5.0000e-04\n",
      "Epoch 5/20\n",
      "67/67 [==============================] - ETA: 0s - loss: 1.1602 - categorical_accuracy: 0.4975\n",
      "Epoch 00005: saving model to model_init_2023-07-0511_34_28.869952/model-00005-1.16023-0.49751-1.13200-0.51000.h5\n",
      "67/67 [==============================] - 64s 976ms/step - loss: 1.1602 - categorical_accuracy: 0.4975 - val_loss: 1.1320 - val_categorical_accuracy: 0.5100 - lr: 5.0000e-04\n",
      "Epoch 6/20\n",
      "67/67 [==============================] - ETA: 0s - loss: 1.2797 - categorical_accuracy: 0.4677\n",
      "Epoch 00006: saving model to model_init_2023-07-0511_34_28.869952/model-00006-1.27966-0.46766-1.16125-0.49000.h5\n",
      "\n",
      "Epoch 00006: ReduceLROnPlateau reducing learning rate to 0.0002500000118743628.\n",
      "67/67 [==============================] - 65s 986ms/step - loss: 1.2797 - categorical_accuracy: 0.4677 - val_loss: 1.1613 - val_categorical_accuracy: 0.4900 - lr: 5.0000e-04\n",
      "Epoch 7/20\n",
      "67/67 [==============================] - ETA: 0s - loss: 1.0768 - categorical_accuracy: 0.5124\n",
      "Epoch 00007: saving model to model_init_2023-07-0511_34_28.869952/model-00007-1.07684-0.51244-1.07424-0.57000.h5\n",
      "67/67 [==============================] - 60s 906ms/step - loss: 1.0768 - categorical_accuracy: 0.5124 - val_loss: 1.0742 - val_categorical_accuracy: 0.5700 - lr: 2.5000e-04\n",
      "Epoch 8/20\n",
      "67/67 [==============================] - ETA: 0s - loss: 1.0454 - categorical_accuracy: 0.5771\n",
      "Epoch 00008: saving model to model_init_2023-07-0511_34_28.869952/model-00008-1.04544-0.57711-1.00076-0.67000.h5\n",
      "67/67 [==============================] - 64s 977ms/step - loss: 1.0454 - categorical_accuracy: 0.5771 - val_loss: 1.0008 - val_categorical_accuracy: 0.6700 - lr: 2.5000e-04\n",
      "Epoch 9/20\n",
      "67/67 [==============================] - ETA: 0s - loss: 0.9885 - categorical_accuracy: 0.5771\n",
      "Epoch 00009: saving model to model_init_2023-07-0511_34_28.869952/model-00009-0.98852-0.57711-0.90990-0.71000.h5\n",
      "67/67 [==============================] - 64s 965ms/step - loss: 0.9885 - categorical_accuracy: 0.5771 - val_loss: 0.9099 - val_categorical_accuracy: 0.7100 - lr: 2.5000e-04\n",
      "Epoch 10/20\n",
      "67/67 [==============================] - ETA: 0s - loss: 0.9513 - categorical_accuracy: 0.6070\n",
      "Epoch 00010: saving model to model_init_2023-07-0511_34_28.869952/model-00010-0.95130-0.60697-0.93919-0.61000.h5\n",
      "67/67 [==============================] - 61s 928ms/step - loss: 0.9513 - categorical_accuracy: 0.6070 - val_loss: 0.9392 - val_categorical_accuracy: 0.6100 - lr: 2.5000e-04\n",
      "Epoch 11/20\n",
      "67/67 [==============================] - ETA: 0s - loss: 0.8806 - categorical_accuracy: 0.6468\n",
      "Epoch 00011: saving model to model_init_2023-07-0511_34_28.869952/model-00011-0.88059-0.64677-0.93163-0.65000.h5\n",
      "\n",
      "Epoch 00011: ReduceLROnPlateau reducing learning rate to 0.0001250000059371814.\n",
      "67/67 [==============================] - 62s 944ms/step - loss: 0.8806 - categorical_accuracy: 0.6468 - val_loss: 0.9316 - val_categorical_accuracy: 0.6500 - lr: 2.5000e-04\n",
      "Epoch 12/20\n",
      "67/67 [==============================] - ETA: 0s - loss: 0.8279 - categorical_accuracy: 0.7065\n",
      "Epoch 00012: saving model to model_init_2023-07-0511_34_28.869952/model-00012-0.82785-0.70647-0.96011-0.60000.h5\n",
      "67/67 [==============================] - 63s 957ms/step - loss: 0.8279 - categorical_accuracy: 0.7065 - val_loss: 0.9601 - val_categorical_accuracy: 0.6000 - lr: 1.2500e-04\n",
      "Epoch 13/20\n",
      "67/67 [==============================] - ETA: 0s - loss: 0.7919 - categorical_accuracy: 0.7214\n",
      "Epoch 00013: saving model to model_init_2023-07-0511_34_28.869952/model-00013-0.79189-0.72139-0.93652-0.59000.h5\n",
      "\n",
      "Epoch 00013: ReduceLROnPlateau reducing learning rate to 6.25000029685907e-05.\n",
      "67/67 [==============================] - 63s 960ms/step - loss: 0.7919 - categorical_accuracy: 0.7214 - val_loss: 0.9365 - val_categorical_accuracy: 0.5900 - lr: 1.2500e-04\n",
      "Epoch 14/20\n",
      "67/67 [==============================] - ETA: 0s - loss: 0.8085 - categorical_accuracy: 0.6866\n",
      "Epoch 00014: saving model to model_init_2023-07-0511_34_28.869952/model-00014-0.80850-0.68657-0.92425-0.65000.h5\n",
      "67/67 [==============================] - 63s 957ms/step - loss: 0.8085 - categorical_accuracy: 0.6866 - val_loss: 0.9242 - val_categorical_accuracy: 0.6500 - lr: 6.2500e-05\n",
      "Epoch 15/20\n",
      "67/67 [==============================] - ETA: 0s - loss: 0.7386 - categorical_accuracy: 0.7214\n",
      "Epoch 00015: saving model to model_init_2023-07-0511_34_28.869952/model-00015-0.73859-0.72139-0.87994-0.68000.h5\n",
      "67/67 [==============================] - 62s 944ms/step - loss: 0.7386 - categorical_accuracy: 0.7214 - val_loss: 0.8799 - val_categorical_accuracy: 0.6800 - lr: 6.2500e-05\n",
      "Epoch 16/20\n",
      "67/67 [==============================] - ETA: 0s - loss: 0.7627 - categorical_accuracy: 0.7164\n",
      "Epoch 00016: saving model to model_init_2023-07-0511_34_28.869952/model-00016-0.76272-0.71642-0.83929-0.65000.h5\n",
      "67/67 [==============================] - 64s 972ms/step - loss: 0.7627 - categorical_accuracy: 0.7164 - val_loss: 0.8393 - val_categorical_accuracy: 0.6500 - lr: 6.2500e-05\n",
      "Epoch 17/20\n",
      "67/67 [==============================] - ETA: 0s - loss: 0.8261 - categorical_accuracy: 0.7164\n",
      "Epoch 00017: saving model to model_init_2023-07-0511_34_28.869952/model-00017-0.82611-0.71642-0.91243-0.66000.h5\n",
      "67/67 [==============================] - 65s 980ms/step - loss: 0.8261 - categorical_accuracy: 0.7164 - val_loss: 0.9124 - val_categorical_accuracy: 0.6600 - lr: 6.2500e-05\n",
      "Epoch 18/20\n",
      "67/67 [==============================] - ETA: 0s - loss: 0.7809 - categorical_accuracy: 0.6965\n",
      "Epoch 00018: saving model to model_init_2023-07-0511_34_28.869952/model-00018-0.78093-0.69652-0.85360-0.67000.h5\n",
      "\n",
      "Epoch 00018: ReduceLROnPlateau reducing learning rate to 3.125000148429535e-05.\n",
      "67/67 [==============================] - 66s 996ms/step - loss: 0.7809 - categorical_accuracy: 0.6965 - val_loss: 0.8536 - val_categorical_accuracy: 0.6700 - lr: 6.2500e-05\n",
      "Epoch 19/20\n",
      "67/67 [==============================] - ETA: 0s - loss: 0.7566 - categorical_accuracy: 0.7313\n",
      "Epoch 00019: saving model to model_init_2023-07-0511_34_28.869952/model-00019-0.75660-0.73134-0.83028-0.69000.h5\n",
      "67/67 [==============================] - 63s 958ms/step - loss: 0.7566 - categorical_accuracy: 0.7313 - val_loss: 0.8303 - val_categorical_accuracy: 0.6900 - lr: 3.1250e-05\n",
      "Epoch 20/20\n",
      "67/67 [==============================] - ETA: 0s - loss: 0.7398 - categorical_accuracy: 0.6915\n",
      "Epoch 00020: saving model to model_init_2023-07-0511_34_28.869952/model-00020-0.73977-0.69154-0.79398-0.72000.h5\n",
      "67/67 [==============================] - 63s 957ms/step - loss: 0.7398 - categorical_accuracy: 0.6915 - val_loss: 0.7940 - val_categorical_accuracy: 0.7200 - lr: 3.1250e-05\n"
     ]
    },
    {
     "data": {
      "text/plain": [
       "<keras.callbacks.History at 0x7f3a95d47160>"
      ]
     },
     "execution_count": 23,
     "metadata": {},
     "output_type": "execute_result"
    }
   ],
   "source": [
    " model_a.fit_generator(train_generator, steps_per_epoch=steps_per_epoch, epochs=num_epochs, verbose=1, \n",
    "                    callbacks=callbacks_list, validation_data=val_generator, \n",
    "                    validation_steps=validation_steps, class_weight=None, workers=1, initial_epoch=0)"
   ]
  },
  {
   "cell_type": "markdown",
   "id": "32edef2d",
   "metadata": {},
   "source": [
    "**FINAL MODEL**"
   ]
  },
  {
   "cell_type": "code",
   "execution_count": 24,
   "id": "8dfbcdbc",
   "metadata": {},
   "outputs": [],
   "source": [
    "filters = [8,16,32,64]\n",
    "dense = [256, 128, 5]\n",
    "\n",
    "# Input\n",
    "input_shape=(30,120,120,3)\n",
    "\n",
    "# Define model\n",
    "model_final = Sequential()\n",
    "\n",
    "model_final.add(Conv3D(filters[0], \n",
    "                 kernel_size=(3,3,3), \n",
    "                 input_shape=input_shape,\n",
    "                 padding='same'))\n",
    "model_final.add(BatchNormalization())\n",
    "model_final.add(Activation('relu'))\n",
    "\n",
    "model_final.add(MaxPooling3D(pool_size=(2,2,2)))\n",
    "\n",
    "model_final.add(Conv3D(filters[1], \n",
    "                 kernel_size=(3,3,3), \n",
    "                 padding='same'))\n",
    "model_final.add(BatchNormalization())\n",
    "model_final.add(Activation('relu'))\n",
    "\n",
    "model_final.add(MaxPooling3D(pool_size=(2,2,2)))\n",
    "\n",
    "model_final.add(Conv3D(filters[2], \n",
    "                 kernel_size=(1,3,3), \n",
    "                 padding='same'))\n",
    "model_final.add(BatchNormalization())\n",
    "model_final.add(Activation('relu'))\n",
    "\n",
    "model_final.add(MaxPooling3D(pool_size=(2,2,2)))\n",
    "\n",
    "model_final.add(Conv3D(filters[3], \n",
    "                 kernel_size=(1,3,3), \n",
    "                 padding='same'))\n",
    "model_final.add(Activation('relu'))\n",
    "model_final.add(Dropout(0.25))\n",
    "\n",
    "model_final.add(MaxPooling3D(pool_size=(2,2,2)))\n",
    "\n",
    "#Flatten Layers\n",
    "model_final.add(Flatten())\n",
    "\n",
    "model_final.add(Dense(dense[0], activation='relu'))\n",
    "model_final.add(Dropout(0.5))\n",
    "\n",
    "model_final.add(Dense(dense[1], activation='relu'))\n",
    "model_final.add(Dropout(0.5))\n",
    "\n",
    "#softmax layer\n",
    "model_final.add(Dense(dense[2], activation='softmax'))"
   ]
  },
  {
   "cell_type": "code",
   "execution_count": 25,
   "id": "163d033b",
   "metadata": {},
   "outputs": [
    {
     "name": "stdout",
     "output_type": "stream",
     "text": [
      "Model: \"sequential_3\"\n",
      "_________________________________________________________________\n",
      " Layer (type)                Output Shape              Param #   \n",
      "=================================================================\n",
      " conv3d_14 (Conv3D)          (None, 30, 120, 120, 8)   656       \n",
      "                                                                 \n",
      " batch_normalization_5 (Batc  (None, 30, 120, 120, 8)  32        \n",
      " hNormalization)                                                 \n",
      "                                                                 \n",
      " activation_14 (Activation)  (None, 30, 120, 120, 8)   0         \n",
      "                                                                 \n",
      " max_pooling3d_9 (MaxPooling  (None, 15, 60, 60, 8)    0         \n",
      " 3D)                                                             \n",
      "                                                                 \n",
      " conv3d_15 (Conv3D)          (None, 15, 60, 60, 16)    3472      \n",
      "                                                                 \n",
      " batch_normalization_6 (Batc  (None, 15, 60, 60, 16)   64        \n",
      " hNormalization)                                                 \n",
      "                                                                 \n",
      " activation_15 (Activation)  (None, 15, 60, 60, 16)    0         \n",
      "                                                                 \n",
      " max_pooling3d_10 (MaxPoolin  (None, 7, 30, 30, 16)    0         \n",
      " g3D)                                                            \n",
      "                                                                 \n",
      " conv3d_16 (Conv3D)          (None, 7, 30, 30, 32)     4640      \n",
      "                                                                 \n",
      " batch_normalization_7 (Batc  (None, 7, 30, 30, 32)    128       \n",
      " hNormalization)                                                 \n",
      "                                                                 \n",
      " activation_16 (Activation)  (None, 7, 30, 30, 32)     0         \n",
      "                                                                 \n",
      " max_pooling3d_11 (MaxPoolin  (None, 3, 15, 15, 32)    0         \n",
      " g3D)                                                            \n",
      "                                                                 \n",
      " conv3d_17 (Conv3D)          (None, 3, 15, 15, 64)     18496     \n",
      "                                                                 \n",
      " activation_17 (Activation)  (None, 3, 15, 15, 64)     0         \n",
      "                                                                 \n",
      " dropout_9 (Dropout)         (None, 3, 15, 15, 64)     0         \n",
      "                                                                 \n",
      " max_pooling3d_12 (MaxPoolin  (None, 1, 7, 7, 64)      0         \n",
      " g3D)                                                            \n",
      "                                                                 \n",
      " flatten_3 (Flatten)         (None, 3136)              0         \n",
      "                                                                 \n",
      " dense_7 (Dense)             (None, 256)               803072    \n",
      "                                                                 \n",
      " dropout_10 (Dropout)        (None, 256)               0         \n",
      "                                                                 \n",
      " dense_8 (Dense)             (None, 128)               32896     \n",
      "                                                                 \n",
      " dropout_11 (Dropout)        (None, 128)               0         \n",
      "                                                                 \n",
      " dense_9 (Dense)             (None, 5)                 645       \n",
      "                                                                 \n",
      "=================================================================\n",
      "Total params: 864,101\n",
      "Trainable params: 863,989\n",
      "Non-trainable params: 112\n",
      "_________________________________________________________________\n",
      "None\n"
     ]
    }
   ],
   "source": [
    "from tensorflow.keras import optimizers\n",
    "\n",
    "optimiser = optimizers.Adam(lr=0.001) #write your optimizer\n",
    "model_final.compile(optimizer=optimiser, loss='categorical_crossentropy', metrics=['categorical_accuracy'])\n",
    "print (model_final.summary())"
   ]
  },
  {
   "cell_type": "code",
   "execution_count": 26,
   "id": "6c3b4915",
   "metadata": {},
   "outputs": [],
   "source": [
    "batch_size = 40\n",
    "num_epochs = 20\n",
    "\n",
    "train_generator = generator(train_path, train_doc, batch_size)\n",
    "val_generator = generator(val_path, val_doc, batch_size)\n",
    "\n"
   ]
  },
  {
   "cell_type": "code",
   "execution_count": 27,
   "id": "387daabe",
   "metadata": {},
   "outputs": [
    {
     "name": "stderr",
     "output_type": "stream",
     "text": [
      "/tmp/ipykernel_303/1276821829.py:1: UserWarning: `Model.fit_generator` is deprecated and will be removed in a future version. Please use `Model.fit`, which supports generators.\n",
      "  mf = model_final.fit_generator(train_generator, steps_per_epoch=steps_per_epoch, epochs=num_epochs, verbose=1,\n"
     ]
    },
    {
     "name": "stdout",
     "output_type": "stream",
     "text": [
      "Source path =  datasets/Project_data/train ; batch size = 40\n",
      "Epoch 1/20\n",
      "15/67 [=====>........................] - ETA: 6:50 - loss: 2.2960 - categorical_accuracy: 0.2367Batch:  17 Index: 40\n",
      "44/67 [==================>...........] - ETA: 2:12 - loss: 1.8646 - categorical_accuracy: 0.2936Batch:  29 Index: 23\n",
      "67/67 [==============================] - ETA: 0s - loss: 1.7315 - categorical_accuracy: 0.3241Source path =  datasets/Project_data/val ; batch size = 40\n",
      "Batch:  3 Index: 40\n",
      "\n",
      "Epoch 00001: saving model to model_init_2023-07-0511_34_28.869952/model-00001-1.73153-0.32406-1.64832-0.21667.h5\n",
      "67/67 [==============================] - 398s 6s/step - loss: 1.7315 - categorical_accuracy: 0.3241 - val_loss: 1.6483 - val_categorical_accuracy: 0.2167 - lr: 0.0010\n",
      "Epoch 2/20\n",
      "12/67 [====>.........................] - ETA: 3:39 - loss: 1.1712 - categorical_accuracy: 0.5307Batch:  35 Index: 19\n",
      "67/67 [==============================] - ETA: 0s - loss: 1.1115 - categorical_accuracy: 0.5468\n",
      "Epoch 00002: saving model to model_init_2023-07-0511_34_28.869952/model-00002-1.11147-0.54678-1.61263-0.28500.h5\n",
      "67/67 [==============================] - 286s 4s/step - loss: 1.1115 - categorical_accuracy: 0.5468 - val_loss: 1.6126 - val_categorical_accuracy: 0.2850 - lr: 0.0010\n",
      "Epoch 3/20\n",
      "67/67 [==============================] - ETA: 0s - loss: 0.8883 - categorical_accuracy: 0.6655\n",
      "Epoch 00003: saving model to model_init_2023-07-0511_34_28.869952/model-00003-0.88834-0.66550-2.08754-0.19500.h5\n",
      "67/67 [==============================] - 274s 4s/step - loss: 0.8883 - categorical_accuracy: 0.6655 - val_loss: 2.0875 - val_categorical_accuracy: 0.1950 - lr: 0.0010\n",
      "Epoch 4/20\n",
      "67/67 [==============================] - ETA: 0s - loss: 0.6214 - categorical_accuracy: 0.7752\n",
      "Epoch 00004: saving model to model_init_2023-07-0511_34_28.869952/model-00004-0.62138-0.77524-2.33964-0.34000.h5\n",
      "\n",
      "Epoch 00004: ReduceLROnPlateau reducing learning rate to 0.0005000000237487257.\n",
      "67/67 [==============================] - 279s 4s/step - loss: 0.6214 - categorical_accuracy: 0.7752 - val_loss: 2.3396 - val_categorical_accuracy: 0.3400 - lr: 0.0010\n",
      "Epoch 5/20\n",
      "67/67 [==============================] - ETA: 0s - loss: 0.4201 - categorical_accuracy: 0.8464\n",
      "Epoch 00005: saving model to model_init_2023-07-0511_34_28.869952/model-00005-0.42008-0.84636-2.95816-0.27000.h5\n",
      "67/67 [==============================] - 276s 4s/step - loss: 0.4201 - categorical_accuracy: 0.8464 - val_loss: 2.9582 - val_categorical_accuracy: 0.2700 - lr: 5.0000e-04\n",
      "Epoch 6/20\n",
      "67/67 [==============================] - ETA: 0s - loss: 0.3382 - categorical_accuracy: 0.8753\n",
      "Epoch 00006: saving model to model_init_2023-07-0511_34_28.869952/model-00006-0.33817-0.87533-1.54327-0.52000.h5\n",
      "67/67 [==============================] - 275s 4s/step - loss: 0.3382 - categorical_accuracy: 0.8753 - val_loss: 1.5433 - val_categorical_accuracy: 0.5200 - lr: 5.0000e-04\n",
      "Epoch 7/20\n",
      "67/67 [==============================] - ETA: 0s - loss: 0.3108 - categorical_accuracy: 0.8938\n",
      "Epoch 00007: saving model to model_init_2023-07-0511_34_28.869952/model-00007-0.31078-0.89377-0.70787-0.73500.h5\n",
      "67/67 [==============================] - 276s 4s/step - loss: 0.3108 - categorical_accuracy: 0.8938 - val_loss: 0.7079 - val_categorical_accuracy: 0.7350 - lr: 5.0000e-04\n",
      "Epoch 8/20\n",
      "67/67 [==============================] - ETA: 0s - loss: 0.2111 - categorical_accuracy: 0.9298\n",
      "Epoch 00008: saving model to model_init_2023-07-0511_34_28.869952/model-00008-0.21110-0.92976-0.63664-0.79000.h5\n",
      "67/67 [==============================] - 280s 4s/step - loss: 0.2111 - categorical_accuracy: 0.9298 - val_loss: 0.6366 - val_categorical_accuracy: 0.7900 - lr: 5.0000e-04\n",
      "Epoch 9/20\n",
      "67/67 [==============================] - ETA: 0s - loss: 0.1744 - categorical_accuracy: 0.9333\n",
      "Epoch 00009: saving model to model_init_2023-07-0511_34_28.869952/model-00009-0.17444-0.93327-0.46408-0.82000.h5\n",
      "67/67 [==============================] - 275s 4s/step - loss: 0.1744 - categorical_accuracy: 0.9333 - val_loss: 0.4641 - val_categorical_accuracy: 0.8200 - lr: 5.0000e-04\n",
      "Epoch 10/20\n",
      "67/67 [==============================] - ETA: 0s - loss: 0.1511 - categorical_accuracy: 0.9447\n",
      "Epoch 00010: saving model to model_init_2023-07-0511_34_28.869952/model-00010-0.15115-0.94469-0.41941-0.84500.h5\n",
      "67/67 [==============================] - 276s 4s/step - loss: 0.1511 - categorical_accuracy: 0.9447 - val_loss: 0.4194 - val_categorical_accuracy: 0.8450 - lr: 5.0000e-04\n",
      "Epoch 11/20\n",
      "67/67 [==============================] - ETA: 0s - loss: 0.1249 - categorical_accuracy: 0.9570\n",
      "Epoch 00011: saving model to model_init_2023-07-0511_34_28.869952/model-00011-0.12489-0.95698-0.39583-0.87000.h5\n",
      "67/67 [==============================] - 277s 4s/step - loss: 0.1249 - categorical_accuracy: 0.9570 - val_loss: 0.3958 - val_categorical_accuracy: 0.8700 - lr: 5.0000e-04\n",
      "Epoch 12/20\n",
      "67/67 [==============================] - ETA: 0s - loss: 0.1444 - categorical_accuracy: 0.9500\n",
      "Epoch 00012: saving model to model_init_2023-07-0511_34_28.869952/model-00012-0.14442-0.94996-0.37117-0.85500.h5\n",
      "67/67 [==============================] - 270s 4s/step - loss: 0.1444 - categorical_accuracy: 0.9500 - val_loss: 0.3712 - val_categorical_accuracy: 0.8550 - lr: 5.0000e-04\n",
      "Epoch 13/20\n",
      "67/67 [==============================] - ETA: 0s - loss: 0.0911 - categorical_accuracy: 0.9684\n",
      "Epoch 00013: saving model to model_init_2023-07-0511_34_28.869952/model-00013-0.09110-0.96839-0.47662-0.82000.h5\n",
      "67/67 [==============================] - 274s 4s/step - loss: 0.0911 - categorical_accuracy: 0.9684 - val_loss: 0.4766 - val_categorical_accuracy: 0.8200 - lr: 5.0000e-04\n",
      "Epoch 14/20\n",
      "67/67 [==============================] - ETA: 0s - loss: 0.1155 - categorical_accuracy: 0.9605\n",
      "Epoch 00014: saving model to model_init_2023-07-0511_34_28.869952/model-00014-0.11552-0.96049-0.45541-0.83000.h5\n",
      "\n",
      "Epoch 00014: ReduceLROnPlateau reducing learning rate to 0.0002500000118743628.\n",
      "67/67 [==============================] - 276s 4s/step - loss: 0.1155 - categorical_accuracy: 0.9605 - val_loss: 0.4554 - val_categorical_accuracy: 0.8300 - lr: 5.0000e-04\n",
      "Epoch 15/20\n",
      "67/67 [==============================] - ETA: 0s - loss: 0.0501 - categorical_accuracy: 0.9860\n",
      "Epoch 00015: saving model to model_init_2023-07-0511_34_28.869952/model-00015-0.05008-0.98595-0.52054-0.81000.h5\n",
      "67/67 [==============================] - 273s 4s/step - loss: 0.0501 - categorical_accuracy: 0.9860 - val_loss: 0.5205 - val_categorical_accuracy: 0.8100 - lr: 2.5000e-04\n",
      "Epoch 16/20\n",
      "67/67 [==============================] - ETA: 0s - loss: 0.0431 - categorical_accuracy: 0.9868\n",
      "Epoch 00016: saving model to model_init_2023-07-0511_34_28.869952/model-00016-0.04309-0.98683-0.38115-0.88500.h5\n",
      "\n",
      "Epoch 00016: ReduceLROnPlateau reducing learning rate to 0.0001250000059371814.\n",
      "67/67 [==============================] - 310s 5s/step - loss: 0.0431 - categorical_accuracy: 0.9868 - val_loss: 0.3812 - val_categorical_accuracy: 0.8850 - lr: 2.5000e-04\n",
      "Epoch 17/20\n",
      "67/67 [==============================] - ETA: 0s - loss: 0.0431 - categorical_accuracy: 0.9842\n",
      "Epoch 00017: saving model to model_init_2023-07-0511_34_28.869952/model-00017-0.04311-0.98420-0.35557-0.90000.h5\n",
      "67/67 [==============================] - 329s 5s/step - loss: 0.0431 - categorical_accuracy: 0.9842 - val_loss: 0.3556 - val_categorical_accuracy: 0.9000 - lr: 1.2500e-04\n",
      "Epoch 18/20\n",
      "67/67 [==============================] - ETA: 0s - loss: 0.0308 - categorical_accuracy: 0.9912\n",
      "Epoch 00018: saving model to model_init_2023-07-0511_34_28.869952/model-00018-0.03075-0.99122-0.39230-0.90500.h5\n",
      "67/67 [==============================] - 299s 5s/step - loss: 0.0308 - categorical_accuracy: 0.9912 - val_loss: 0.3923 - val_categorical_accuracy: 0.9050 - lr: 1.2500e-04\n",
      "Epoch 19/20\n",
      "67/67 [==============================] - ETA: 0s - loss: 0.0300 - categorical_accuracy: 0.9947\n",
      "Epoch 00019: saving model to model_init_2023-07-0511_34_28.869952/model-00019-0.03005-0.99473-0.38381-0.91000.h5\n",
      "\n",
      "Epoch 00019: ReduceLROnPlateau reducing learning rate to 6.25000029685907e-05.\n",
      "67/67 [==============================] - 284s 4s/step - loss: 0.0300 - categorical_accuracy: 0.9947 - val_loss: 0.3838 - val_categorical_accuracy: 0.9100 - lr: 1.2500e-04\n",
      "Epoch 20/20\n",
      "67/67 [==============================] - ETA: 0s - loss: 0.0253 - categorical_accuracy: 0.9921\n",
      "Epoch 00020: saving model to model_init_2023-07-0511_34_28.869952/model-00020-0.02532-0.99210-0.42795-0.88500.h5\n",
      "67/67 [==============================] - 280s 4s/step - loss: 0.0253 - categorical_accuracy: 0.9921 - val_loss: 0.4280 - val_categorical_accuracy: 0.8850 - lr: 6.2500e-05\n"
     ]
    }
   ],
   "source": [
    "mf = model_final.fit_generator(train_generator, steps_per_epoch=steps_per_epoch, epochs=num_epochs, verbose=1, \n",
    "                    callbacks=callbacks_list, validation_data=val_generator, \n",
    "                    validation_steps=validation_steps, class_weight=None, workers=1, initial_epoch=0)"
   ]
  },
  {
   "cell_type": "markdown",
   "id": "7599d304",
   "metadata": {},
   "source": [
    "**Graph**"
   ]
  },
  {
   "cell_type": "code",
   "execution_count": 29,
   "id": "8d804730",
   "metadata": {},
   "outputs": [
    {
     "data": {
      "image/png": "[encoded data removed]",
      "text/plain": [
       "<Figure size 576x576 with 2 Axes>"
      ]
     },
     "metadata": {
      "needs_background": "light"
     },
     "output_type": "display_data"
    }
   ],
   "source": [
    "import matplotlib.pyplot as plt\n",
    "\n",
    "acc = mf.history['categorical_accuracy']\n",
    "val_acc = mf.history['val_categorical_accuracy']\n",
    "\n",
    "loss = mf.history['loss']\n",
    "val_loss = mf.history['val_loss']\n",
    "\n",
    "\n",
    "epochs_range = range(num_epochs)\n",
    "\n",
    "plt.figure(figsize=(8, 8))\n",
    "plt.subplot(1, 2, 1)\n",
    "plt.plot(epochs_range, acc, label='Training Accuracy')\n",
    "plt.plot(epochs_range, val_acc, label='Validation Accuracy')\n",
    "plt.legend(loc='lower right')\n",
    "plt.title('Training and Validation Accuracy')\n",
    "\n",
    "plt.subplot(1, 2, 2)\n",
    "plt.plot(epochs_range, loss, label='Training Loss')\n",
    "plt.plot(epochs_range, val_loss, label='Validation Loss')\n",
    "plt.legend(loc='upper right')\n",
    "plt.title('Training and Validation Loss')\n",
    "plt.show()"
   ]
  },
  {
   "cell_type": "code",
   "execution_count": 30,
   "id": "a5f4fd40",
   "metadata": {},
   "outputs": [],
   "source": [
    "\n",
    "\n",
    "# Save the model to an .h5 file\n",
    "model_final.save('model_final.h5')"
   ]
  },
  {
   "cell_type": "code",
   "execution_count": null,
   "id": "e044bac0",
   "metadata": {},
   "outputs": [],
   "source": []
  }
 ],
 "metadata": {
  "kernelspec": {
   "display_name": "Python 3 (ipykernel)",
   "language": "python",
   "name": "python3"
  },
  "language_info": {
   "codemirror_mode": {
    "name": "ipython",
    "version": 3
   },
   "file_extension": ".py",
   "mimetype": "text/x-python",
   "name": "python",
   "nbconvert_exporter": "python",
   "pygments_lexer": "ipython3",
   "version": "3.8.10"
  }
 },
 "nbformat": 4,
 "nbformat_minor": 5
}
